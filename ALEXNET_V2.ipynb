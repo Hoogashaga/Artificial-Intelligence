{
  "nbformat": 4,
  "nbformat_minor": 0,
  "metadata": {
    "colab": {
      "name": "ALEXNET5.ipynb",
      "provenance": []
    },
    "kernelspec": {
      "name": "python3",
      "display_name": "Python 3"
    },
    "accelerator": "GPU",
    "widgets": {
      "application/vnd.jupyter.widget-state+json": {
        "9f9658cf120145b48f38d0effeee28a7": {
          "model_module": "@jupyter-widgets/controls",
          "model_name": "HBoxModel",
          "state": {
            "_view_name": "HBoxView",
            "_dom_classes": [],
            "_model_name": "HBoxModel",
            "_view_module": "@jupyter-widgets/controls",
            "_model_module_version": "1.5.0",
            "_view_count": null,
            "_view_module_version": "1.5.0",
            "box_style": "",
            "layout": "IPY_MODEL_3bd33298677046ebaaaa56e7ea954feb",
            "_model_module": "@jupyter-widgets/controls",
            "children": [
              "IPY_MODEL_19957d4da74e4ce08ed3f58a58771c94",
              "IPY_MODEL_d66b463ec09e460d90e8cc0f54ebccc1"
            ]
          }
        },
        "3bd33298677046ebaaaa56e7ea954feb": {
          "model_module": "@jupyter-widgets/base",
          "model_name": "LayoutModel",
          "state": {
            "_view_name": "LayoutView",
            "grid_template_rows": null,
            "right": null,
            "justify_content": null,
            "_view_module": "@jupyter-widgets/base",
            "overflow": null,
            "_model_module_version": "1.2.0",
            "_view_count": null,
            "flex_flow": null,
            "width": null,
            "min_width": null,
            "border": null,
            "align_items": null,
            "bottom": null,
            "_model_module": "@jupyter-widgets/base",
            "top": null,
            "grid_column": null,
            "overflow_y": null,
            "overflow_x": null,
            "grid_auto_flow": null,
            "grid_area": null,
            "grid_template_columns": null,
            "flex": null,
            "_model_name": "LayoutModel",
            "justify_items": null,
            "grid_row": null,
            "max_height": null,
            "align_content": null,
            "visibility": null,
            "align_self": null,
            "height": null,
            "min_height": null,
            "padding": null,
            "grid_auto_rows": null,
            "grid_gap": null,
            "max_width": null,
            "order": null,
            "_view_module_version": "1.2.0",
            "grid_template_areas": null,
            "object_position": null,
            "object_fit": null,
            "grid_auto_columns": null,
            "margin": null,
            "display": null,
            "left": null
          }
        },
        "19957d4da74e4ce08ed3f58a58771c94": {
          "model_module": "@jupyter-widgets/controls",
          "model_name": "FloatProgressModel",
          "state": {
            "_view_name": "ProgressView",
            "style": "IPY_MODEL_0c2edccf6ea04e6698912ac5bc6e33f3",
            "_dom_classes": [],
            "description": "",
            "_model_name": "FloatProgressModel",
            "bar_style": "info",
            "max": 1,
            "_view_module": "@jupyter-widgets/controls",
            "_model_module_version": "1.5.0",
            "value": 1,
            "_view_count": null,
            "_view_module_version": "1.5.0",
            "orientation": "horizontal",
            "min": 0,
            "description_tooltip": null,
            "_model_module": "@jupyter-widgets/controls",
            "layout": "IPY_MODEL_14aa11df7fdd47ac97d772cb19287ba7"
          }
        },
        "d66b463ec09e460d90e8cc0f54ebccc1": {
          "model_module": "@jupyter-widgets/controls",
          "model_name": "HTMLModel",
          "state": {
            "_view_name": "HTMLView",
            "style": "IPY_MODEL_dad667c677ed4522aee1ef19c80ab0cf",
            "_dom_classes": [],
            "description": "",
            "_model_name": "HTMLModel",
            "placeholder": "​",
            "_view_module": "@jupyter-widgets/controls",
            "_model_module_version": "1.5.0",
            "value": " 170500096/? [00:20&lt;00:00, 98825946.22it/s]",
            "_view_count": null,
            "_view_module_version": "1.5.0",
            "description_tooltip": null,
            "_model_module": "@jupyter-widgets/controls",
            "layout": "IPY_MODEL_a14096aaf3f0496bbc752b5f935bbbc7"
          }
        },
        "0c2edccf6ea04e6698912ac5bc6e33f3": {
          "model_module": "@jupyter-widgets/controls",
          "model_name": "ProgressStyleModel",
          "state": {
            "_view_name": "StyleView",
            "_model_name": "ProgressStyleModel",
            "description_width": "initial",
            "_view_module": "@jupyter-widgets/base",
            "_model_module_version": "1.5.0",
            "_view_count": null,
            "_view_module_version": "1.2.0",
            "bar_color": null,
            "_model_module": "@jupyter-widgets/controls"
          }
        },
        "14aa11df7fdd47ac97d772cb19287ba7": {
          "model_module": "@jupyter-widgets/base",
          "model_name": "LayoutModel",
          "state": {
            "_view_name": "LayoutView",
            "grid_template_rows": null,
            "right": null,
            "justify_content": null,
            "_view_module": "@jupyter-widgets/base",
            "overflow": null,
            "_model_module_version": "1.2.0",
            "_view_count": null,
            "flex_flow": null,
            "width": null,
            "min_width": null,
            "border": null,
            "align_items": null,
            "bottom": null,
            "_model_module": "@jupyter-widgets/base",
            "top": null,
            "grid_column": null,
            "overflow_y": null,
            "overflow_x": null,
            "grid_auto_flow": null,
            "grid_area": null,
            "grid_template_columns": null,
            "flex": null,
            "_model_name": "LayoutModel",
            "justify_items": null,
            "grid_row": null,
            "max_height": null,
            "align_content": null,
            "visibility": null,
            "align_self": null,
            "height": null,
            "min_height": null,
            "padding": null,
            "grid_auto_rows": null,
            "grid_gap": null,
            "max_width": null,
            "order": null,
            "_view_module_version": "1.2.0",
            "grid_template_areas": null,
            "object_position": null,
            "object_fit": null,
            "grid_auto_columns": null,
            "margin": null,
            "display": null,
            "left": null
          }
        },
        "dad667c677ed4522aee1ef19c80ab0cf": {
          "model_module": "@jupyter-widgets/controls",
          "model_name": "DescriptionStyleModel",
          "state": {
            "_view_name": "StyleView",
            "_model_name": "DescriptionStyleModel",
            "description_width": "",
            "_view_module": "@jupyter-widgets/base",
            "_model_module_version": "1.5.0",
            "_view_count": null,
            "_view_module_version": "1.2.0",
            "_model_module": "@jupyter-widgets/controls"
          }
        },
        "a14096aaf3f0496bbc752b5f935bbbc7": {
          "model_module": "@jupyter-widgets/base",
          "model_name": "LayoutModel",
          "state": {
            "_view_name": "LayoutView",
            "grid_template_rows": null,
            "right": null,
            "justify_content": null,
            "_view_module": "@jupyter-widgets/base",
            "overflow": null,
            "_model_module_version": "1.2.0",
            "_view_count": null,
            "flex_flow": null,
            "width": null,
            "min_width": null,
            "border": null,
            "align_items": null,
            "bottom": null,
            "_model_module": "@jupyter-widgets/base",
            "top": null,
            "grid_column": null,
            "overflow_y": null,
            "overflow_x": null,
            "grid_auto_flow": null,
            "grid_area": null,
            "grid_template_columns": null,
            "flex": null,
            "_model_name": "LayoutModel",
            "justify_items": null,
            "grid_row": null,
            "max_height": null,
            "align_content": null,
            "visibility": null,
            "align_self": null,
            "height": null,
            "min_height": null,
            "padding": null,
            "grid_auto_rows": null,
            "grid_gap": null,
            "max_width": null,
            "order": null,
            "_view_module_version": "1.2.0",
            "grid_template_areas": null,
            "object_position": null,
            "object_fit": null,
            "grid_auto_columns": null,
            "margin": null,
            "display": null,
            "left": null
          }
        }
      }
    }
  },
  "cells": [
    {
      "cell_type": "code",
      "metadata": {
        "id": "42QWUXO02FmO"
      },
      "source": [
        "# import function\r\n",
        "import os\r\n",
        "import time\r\n",
        "import torch\r\n",
        "import torch.nn as nn\r\n",
        "import torch.nn.functional as F\r\n",
        "from torch.utils.data import DataLoader\r\n",
        "from torchvision import datasets\r\n",
        "from torchvision import transforms\r\n",
        "import matplotlib.pyplot as plt\r\n",
        "import numpy as np\r\n",
        "import pandas as pd\r\n",
        "from PIL import Image\r\n",
        "\r\n",
        "\r\n",
        "if torch.cuda.is_available():\r\n",
        "    torch.backends.cudnn.deterministic = True"
      ],
      "execution_count": 1,
      "outputs": []
    },
    {
      "cell_type": "code",
      "metadata": {
        "id": "KuOOpPGY2LqI"
      },
      "source": [
        "# How may images we split\r\n",
        "BATCH_SIZE = 128\r\n",
        "\r\n",
        "# Default # of process\r\n",
        "NUM_CLASSES = 10\r\n",
        "\r\n",
        "# Use GPU to run \r\n",
        "DEVICE = \"cuda:0\""
      ],
      "execution_count": null,
      "outputs": []
    },
    {
      "cell_type": "code",
      "metadata": {
        "colab": {
          "base_uri": "https://localhost:8080/",
          "height": 83,
          "referenced_widgets": [
            "9f9658cf120145b48f38d0effeee28a7",
            "3bd33298677046ebaaaa56e7ea954feb",
            "19957d4da74e4ce08ed3f58a58771c94",
            "d66b463ec09e460d90e8cc0f54ebccc1",
            "0c2edccf6ea04e6698912ac5bc6e33f3",
            "14aa11df7fdd47ac97d772cb19287ba7",
            "dad667c677ed4522aee1ef19c80ab0cf",
            "a14096aaf3f0496bbc752b5f935bbbc7"
          ]
        },
        "id": "7PW97vG42QII",
        "outputId": "cbea0366-deaf-40ca-f6e0-ea4516cd2261"
      },
      "source": [
        "# resize images\r\n",
        "# crop image\r\n",
        "# transfer image pixel value to tensor\r\n",
        "# normalize image data\r\n",
        "train_transform = transforms.Compose([transforms.Resize((255, 255)),\r\n",
        "                                      transforms.RandomCrop((224, 224)),\r\n",
        "                                      transforms.ToTensor(),\r\n",
        "                                      transforms.Normalize((0.4914, 0.4822, 0.4465), (0.2023, 0.1994, 0.2010)),\r\n",
        "                                      ])\r\n",
        "\r\n",
        "test_transform = transforms.Compose([transforms.Resize((255, 255)),\r\n",
        "                                     transforms.CenterCrop((224, 224)),\r\n",
        "                                     transforms.ToTensor(),\r\n",
        "                                     transforms.Normalize((0.4914, 0.4822, 0.4465), (0.2023, 0.1994, 0.2010))])\r\n",
        "\r\n",
        "# Laod training and testing dataset\r\n",
        "train_dataset = datasets.CIFAR10(root='data', train=True, transform=train_transform, download=True)\r\n",
        "test_dataset = datasets.CIFAR10(root='data', train=False, transform=test_transform, download=False)\r\n",
        "\r\n",
        "train_loader = DataLoader(dataset=train_dataset, batch_size=BATCH_SIZE, num_workers=4, shuffle=True)\r\n",
        "test_loader = DataLoader(dataset=test_dataset, batch_size=BATCH_SIZE, num_workers=4, shuffle=False)"
      ],
      "execution_count": null,
      "outputs": [
        {
          "output_type": "stream",
          "text": [
            "Downloading https://www.cs.toronto.edu/~kriz/cifar-10-python.tar.gz to data/cifar-10-python.tar.gz\n"
          ],
          "name": "stdout"
        },
        {
          "output_type": "display_data",
          "data": {
            "application/vnd.jupyter.widget-view+json": {
              "model_id": "9f9658cf120145b48f38d0effeee28a7",
              "version_minor": 0,
              "version_major": 2
            },
            "text/plain": [
              "HBox(children=(FloatProgress(value=1.0, bar_style='info', max=1.0), HTML(value='')))"
            ]
          },
          "metadata": {
            "tags": []
          }
        },
        {
          "output_type": "stream",
          "text": [
            "Extracting data/cifar-10-python.tar.gz to data\n"
          ],
          "name": "stdout"
        }
      ]
    },
    {
      "cell_type": "code",
      "metadata": {
        "colab": {
          "base_uri": "https://localhost:8080/"
        },
        "id": "IOmi2eJkuBvQ",
        "outputId": "7bed3ec5-ed5c-4ebb-bc29-8514a1bf80fc"
      },
      "source": [
        "# TO check what knids of classes we have\r\n",
        "classes = train_dataset.classes\r\n",
        "classes"
      ],
      "execution_count": null,
      "outputs": [
        {
          "output_type": "execute_result",
          "data": {
            "text/plain": [
              "['airplane',\n",
              " 'automobile',\n",
              " 'bird',\n",
              " 'cat',\n",
              " 'deer',\n",
              " 'dog',\n",
              " 'frog',\n",
              " 'horse',\n",
              " 'ship',\n",
              " 'truck']"
            ]
          },
          "metadata": {
            "tags": []
          },
          "execution_count": 4
        }
      ]
    },
    {
      "cell_type": "code",
      "metadata": {
        "colab": {
          "base_uri": "https://localhost:8080/"
        },
        "id": "paROOYD_u4fe",
        "outputId": "6dc1f096-aeb0-4369-dfb5-a77b050032f9"
      },
      "source": [
        "Tclasses = test_dataset.classes\r\n",
        "Tclasses"
      ],
      "execution_count": null,
      "outputs": [
        {
          "output_type": "execute_result",
          "data": {
            "text/plain": [
              "['airplane',\n",
              " 'automobile',\n",
              " 'bird',\n",
              " 'cat',\n",
              " 'deer',\n",
              " 'dog',\n",
              " 'frog',\n",
              " 'horse',\n",
              " 'ship',\n",
              " 'truck']"
            ]
          },
          "metadata": {
            "tags": []
          },
          "execution_count": 5
        }
      ]
    },
    {
      "cell_type": "code",
      "metadata": {
        "id": "PXZ5re9O2VFk"
      },
      "source": [
        "# Define Alexnet architecture\r\n",
        "# Conv2d output channel change, set up feature map size, step, and padding \r\n",
        "# ReLU: a piecewise linear function that will output the input directly if it is positive, otherwise, it will output zero.\r\n",
        "# Maxpool2D: extract how many image info we need\r\n",
        "# self.fc set up fully-connected layer\r\n",
        "# dropout:a regularization technique for reducing overfitting in artificial neural networks by preventing complex co-adaptations on training data.\r\n",
        "# nn.linear: Applies a linear transformation to the incoming data: y = x*W^T + b\r\n",
        "\r\n",
        "class AlexNet(nn.Module):\r\n",
        "\r\n",
        "    def __init__(self):\r\n",
        "        super(AlexNet, self).__init__()\r\n",
        "        self.features = nn.Sequential(\r\n",
        "            nn.Conv2d(3, 64, kernel_size=11, stride=4, padding=2),\r\n",
        "            nn.ReLU(inplace=True),\r\n",
        "            nn.MaxPool2d(kernel_size=3, stride=2),\r\n",
        "            \r\n",
        "            nn.Conv2d(64, 192, kernel_size=5, padding=2),\r\n",
        "            nn.ReLU(inplace=True),\r\n",
        "            nn.MaxPool2d(kernel_size=3, stride=2),\r\n",
        "            \r\n",
        "            nn.Conv2d(192, 384, kernel_size=3, padding=1),\r\n",
        "            nn.ReLU(inplace=True),\r\n",
        "            \r\n",
        "            nn.Conv2d(384, 256, kernel_size=3, padding=1),\r\n",
        "            nn.ReLU(inplace=True),\r\n",
        "            \r\n",
        "            nn.Conv2d(256, 256, kernel_size=3, padding=1),\r\n",
        "            nn.ReLU(inplace=True),\r\n",
        "            nn.MaxPool2d(kernel_size=3, stride=2),\r\n",
        "            \r\n",
        "            # modify input image size\r\n",
        "            nn.AdaptiveAvgPool2d((6, 6))\r\n",
        "        )\r\n",
        "        self.FC = nn.Sequential(\r\n",
        "            nn.Dropout(0.5),\r\n",
        "            nn.Linear(256 * 6 * 6, 4096),\r\n",
        "            nn.ReLU(inplace=True),\r\n",
        "            nn.Dropout(0.5),\r\n",
        "            nn.Linear(4096, 4096),\r\n",
        "            nn.ReLU(inplace=True),\r\n",
        "            nn.Linear(4096, 10)\r\n",
        "        )\r\n",
        "    #     self.init_bias()\r\n",
        "\r\n",
        "    # def init_bias(self):\r\n",
        "    #     for layer in self.features:\r\n",
        "    #         if isinstance(layer, nn.Conv2d):\r\n",
        "    #             nn.init.normal_(layer.weight, mean=0, std=0.01)\r\n",
        "    #             nn.init.constant_(layer.bias, 0)\r\n",
        "    #     # original paper = 1 for Conv2d layers 2nd, 4th, and 5th conv layers\r\n",
        "    #     nn.init.constant_(self.features[4].bias, 1)\r\n",
        "    #     nn.init.constant_(self.features[10].bias, 1)\r\n",
        "    #     nn.init.constant_(self.features[12].bias, 1)\r\n",
        "\r\n",
        "\r\n",
        "  # forward to next layer\r\n",
        "    def forward(self, x):\r\n",
        "        out = self.features(x)\r\n",
        "        out = out.view(x.size(0), 256 * 6 * 6)\r\n",
        "        out = self.FC(out)\r\n",
        "\r\n",
        "        # to normalize the output of a network to a probability distribution over predicted output classes\r\n",
        "        probas = F.softmax(out, dim=1)\r\n",
        "        return out, probas\r\n",
        "\r\n"
      ],
      "execution_count": null,
      "outputs": []
    },
    {
      "cell_type": "code",
      "metadata": {
        "id": "qUnep0Xm6mLY"
      },
      "source": [
        "torch.manual_seed(1)\r\n",
        "model = AlexNet()\r\n",
        "model.to(DEVICE)\r\n",
        "\r\n",
        "\r\n",
        "# use SGD optimizer to gradient descent\r\n",
        "optimizer = torch.optim.SGD(model.parameters(), lr = 0.001, momentum=0.9)\r\n",
        "# optimizer = torch.optim.Adam(model.parameters(), lr=0.001)"
      ],
      "execution_count": null,
      "outputs": []
    },
    {
      "cell_type": "code",
      "metadata": {
        "id": "d9fC7wX_D-zB"
      },
      "source": [
        "cost, trainACC, validACC = [], [], []"
      ],
      "execution_count": null,
      "outputs": []
    },
    {
      "cell_type": "code",
      "metadata": {
        "id": "JLOYeaoA68-6"
      },
      "source": [
        "# compute training and testing accuracy\r\n",
        "def compute_acc(model, data_loader, device):\r\n",
        "    correct_pred, num_examples = 0, 0\r\n",
        "   \r\n",
        "    # extract input image info and labels\r\n",
        "    for i, data in enumerate(data_loader):\r\n",
        "            \r\n",
        "        inputs = data[0].to(device)\r\n",
        "        labels = data[1].to(device)\r\n",
        "\r\n",
        "        out, probas = model(inputs)\r\n",
        "        x, predicted_labels = torch.max(probas, 1)\r\n",
        "        num_examples += labels.size(0)\r\n",
        "\r\n",
        "        # if label matches, add it to calculate accuracy\r\n",
        "        if predicted_labels.size() == labels.size():\r\n",
        "          correct_pred += (predicted_labels == labels).sum()\r\n",
        "    return (correct_pred.float()/num_examples) * 100\r\n"
      ],
      "execution_count": null,
      "outputs": []
    },
    {
      "cell_type": "code",
      "metadata": {
        "colab": {
          "base_uri": "https://localhost:8080/"
        },
        "id": "aqls0Bd4DTtI",
        "outputId": "1c07a58c-0479-4fb2-edf8-53da5514924e"
      },
      "source": [
        "start_time = time.time()\r\n",
        "NUM_EPOCHS = 50\r\n",
        "for epoch in range(NUM_EPOCHS):\r\n",
        "    for i, T_data in enumerate(train_loader):\r\n",
        "        \r\n",
        "        features = T_data[0].to(DEVICE)\r\n",
        "        targets = T_data[1].to(DEVICE)\r\n",
        "\r\n",
        "        optimizer.zero_grad()    \r\n",
        "       \r\n",
        "        out, probas = model(features)\r\n",
        "\r\n",
        "        # Cross-entropy is a measure from the field of information theory, building upon entropy and generally calculating the difference between two probability distributions.\r\n",
        "        loss = F.cross_entropy(out, targets)\r\n",
        "\r\n",
        "        # computes dloss/dx for every parameter x which has requires_grad=True. These are accumulated into x.grad for every parameter x.\r\n",
        "        loss.backward()\r\n",
        "        optimizer.step()\r\n",
        "\r\n",
        "        cost.append(loss.item())\r\n",
        "        if not i % 500:\r\n",
        "            print (f'Epoch: {epoch+1:03d}   '\r\n",
        "                   f'Batch: {i:03d}/{len(train_loader):03d} ' \r\n",
        "                   f'Loss: {loss:.4f}')\r\n",
        "            \r\n",
        "        \r\n",
        "    with torch.set_grad_enabled(False):\r\n",
        "        train_acc = compute_acc(model, train_loader, device=DEVICE)\r\n",
        "        trainACC.append(train_acc)\r\n",
        "        \r\n",
        "        valid_acc = compute_acc(model, test_loader, device=DEVICE)\r\n",
        "        validACC.append(valid_acc)\r\n",
        "        \r\n",
        "        # output accuracy\r\n",
        "        print(f'Train ACC: {train_acc:.2f}\\n'\r\n",
        "              f'Validation ACC: {valid_acc:.2f}\\n')     \r\n",
        "  \r\n",
        "T = (time.time() - start_time)/60\r\n",
        "print(f'Total Training Time: {T:.2f} min')"
      ],
      "execution_count": null,
      "outputs": [
        {
          "output_type": "stream",
          "text": [
            "Epoch: 001   Batch: 000/391 Loss: 2.3016\n",
            "Train ACC: 11.45\n",
            "Validation ACC: 11.32\n",
            "\n",
            "Epoch: 002   Batch: 000/391 Loss: 2.3003\n",
            "Train ACC: 16.72\n",
            "Validation ACC: 17.09\n",
            "\n",
            "Epoch: 003   Batch: 000/391 Loss: 2.2745\n",
            "Train ACC: 27.31\n",
            "Validation ACC: 28.92\n",
            "\n",
            "Epoch: 004   Batch: 000/391 Loss: 2.1855\n",
            "Train ACC: 34.08\n",
            "Validation ACC: 35.59\n",
            "\n",
            "Epoch: 005   Batch: 000/391 Loss: 1.7885\n",
            "Train ACC: 39.14\n",
            "Validation ACC: 39.27\n",
            "\n",
            "Epoch: 006   Batch: 000/391 Loss: 1.6083\n",
            "Train ACC: 41.52\n",
            "Validation ACC: 42.60\n",
            "\n",
            "Epoch: 007   Batch: 000/391 Loss: 1.6202\n",
            "Train ACC: 46.58\n",
            "Validation ACC: 46.53\n",
            "\n",
            "Epoch: 008   Batch: 000/391 Loss: 1.4467\n",
            "Train ACC: 48.49\n",
            "Validation ACC: 48.67\n",
            "\n",
            "Epoch: 009   Batch: 000/391 Loss: 1.4129\n",
            "Train ACC: 51.28\n",
            "Validation ACC: 51.25\n",
            "\n",
            "Epoch: 010   Batch: 000/391 Loss: 1.3460\n",
            "Train ACC: 53.27\n",
            "Validation ACC: 54.39\n",
            "\n",
            "Epoch: 011   Batch: 000/391 Loss: 1.3172\n",
            "Train ACC: 55.20\n",
            "Validation ACC: 56.00\n",
            "\n",
            "Epoch: 012   Batch: 000/391 Loss: 1.1453\n",
            "Train ACC: 58.54\n",
            "Validation ACC: 59.05\n",
            "\n",
            "Epoch: 013   Batch: 000/391 Loss: 1.1681\n",
            "Train ACC: 57.93\n",
            "Validation ACC: 58.37\n",
            "\n",
            "Epoch: 014   Batch: 000/391 Loss: 1.2602\n",
            "Train ACC: 60.38\n",
            "Validation ACC: 60.76\n",
            "\n",
            "Epoch: 015   Batch: 000/391 Loss: 1.0799\n",
            "Train ACC: 63.73\n",
            "Validation ACC: 62.95\n",
            "\n",
            "Epoch: 016   Batch: 000/391 Loss: 0.9654\n",
            "Train ACC: 65.21\n",
            "Validation ACC: 64.82\n",
            "\n",
            "Epoch: 017   Batch: 000/391 Loss: 0.9426\n",
            "Train ACC: 66.49\n",
            "Validation ACC: 66.10\n",
            "\n",
            "Epoch: 018   Batch: 000/391 Loss: 0.9026\n",
            "Train ACC: 68.98\n",
            "Validation ACC: 68.24\n",
            "\n",
            "Epoch: 019   Batch: 000/391 Loss: 1.0441\n",
            "Train ACC: 69.15\n",
            "Validation ACC: 69.30\n",
            "\n",
            "Epoch: 020   Batch: 000/391 Loss: 0.9350\n",
            "Train ACC: 70.66\n",
            "Validation ACC: 70.41\n",
            "\n",
            "Epoch: 021   Batch: 000/391 Loss: 0.9145\n",
            "Train ACC: 72.95\n",
            "Validation ACC: 71.88\n",
            "\n",
            "Epoch: 022   Batch: 000/391 Loss: 0.8155\n",
            "Train ACC: 73.14\n",
            "Validation ACC: 71.12\n",
            "\n",
            "Epoch: 023   Batch: 000/391 Loss: 0.8714\n",
            "Train ACC: 75.28\n",
            "Validation ACC: 73.17\n",
            "\n",
            "Epoch: 024   Batch: 000/391 Loss: 0.8863\n",
            "Train ACC: 74.46\n",
            "Validation ACC: 72.72\n",
            "\n",
            "Epoch: 025   Batch: 000/391 Loss: 0.7011\n",
            "Train ACC: 76.02\n",
            "Validation ACC: 73.79\n",
            "\n",
            "Epoch: 026   Batch: 000/391 Loss: 0.6466\n",
            "Train ACC: 76.10\n",
            "Validation ACC: 73.60\n",
            "\n",
            "Epoch: 027   Batch: 000/391 Loss: 0.7234\n",
            "Train ACC: 77.55\n",
            "Validation ACC: 74.97\n",
            "\n",
            "Epoch: 028   Batch: 000/391 Loss: 0.5908\n",
            "Train ACC: 78.95\n",
            "Validation ACC: 76.15\n",
            "\n",
            "Epoch: 029   Batch: 000/391 Loss: 0.5610\n",
            "Train ACC: 80.43\n",
            "Validation ACC: 76.96\n",
            "\n",
            "Epoch: 030   Batch: 000/391 Loss: 0.5825\n",
            "Train ACC: 80.46\n",
            "Validation ACC: 76.65\n",
            "\n",
            "Epoch: 031   Batch: 000/391 Loss: 0.4747\n",
            "Train ACC: 80.66\n",
            "Validation ACC: 77.00\n",
            "\n",
            "Epoch: 032   Batch: 000/391 Loss: 0.4739\n",
            "Train ACC: 81.05\n",
            "Validation ACC: 77.64\n",
            "\n",
            "Epoch: 033   Batch: 000/391 Loss: 0.7406\n",
            "Train ACC: 81.26\n",
            "Validation ACC: 77.54\n",
            "\n",
            "Epoch: 034   Batch: 000/391 Loss: 0.6515\n",
            "Train ACC: 82.32\n",
            "Validation ACC: 78.32\n",
            "\n",
            "Epoch: 035   Batch: 000/391 Loss: 0.4360\n",
            "Train ACC: 83.18\n",
            "Validation ACC: 79.32\n",
            "\n",
            "Epoch: 036   Batch: 000/391 Loss: 0.4556\n",
            "Train ACC: 83.99\n",
            "Validation ACC: 79.38\n",
            "\n",
            "Epoch: 037   Batch: 000/391 Loss: 0.3522\n",
            "Train ACC: 83.93\n",
            "Validation ACC: 79.50\n",
            "\n",
            "Epoch: 038   Batch: 000/391 Loss: 0.5644\n",
            "Train ACC: 84.38\n",
            "Validation ACC: 79.53\n",
            "\n",
            "Epoch: 039   Batch: 000/391 Loss: 0.4249\n",
            "Train ACC: 84.64\n",
            "Validation ACC: 79.49\n",
            "\n",
            "Epoch: 040   Batch: 000/391 Loss: 0.5702\n",
            "Train ACC: 85.24\n",
            "Validation ACC: 79.82\n",
            "\n",
            "Epoch: 041   Batch: 000/391 Loss: 0.4795\n",
            "Train ACC: 85.38\n",
            "Validation ACC: 79.65\n",
            "\n",
            "Epoch: 042   Batch: 000/391 Loss: 0.3696\n",
            "Train ACC: 85.66\n",
            "Validation ACC: 80.13\n",
            "\n",
            "Epoch: 043   Batch: 000/391 Loss: 0.4104\n",
            "Train ACC: 86.46\n",
            "Validation ACC: 80.38\n",
            "\n",
            "Epoch: 044   Batch: 000/391 Loss: 0.3422\n",
            "Train ACC: 86.20\n",
            "Validation ACC: 79.49\n",
            "\n",
            "Epoch: 045   Batch: 000/391 Loss: 0.4349\n",
            "Train ACC: 87.71\n",
            "Validation ACC: 80.63\n",
            "\n",
            "Epoch: 046   Batch: 000/391 Loss: 0.3254\n",
            "Train ACC: 86.90\n",
            "Validation ACC: 79.94\n",
            "\n",
            "Epoch: 047   Batch: 000/391 Loss: 0.4452\n",
            "Train ACC: 87.23\n",
            "Validation ACC: 80.33\n",
            "\n",
            "Epoch: 048   Batch: 000/391 Loss: 0.3597\n",
            "Train ACC: 88.16\n",
            "Validation ACC: 80.53\n",
            "\n",
            "Epoch: 049   Batch: 000/391 Loss: 0.1951\n",
            "Train ACC: 88.50\n",
            "Validation ACC: 81.20\n",
            "\n",
            "Epoch: 050   Batch: 000/391 Loss: 0.3446\n",
            "Train ACC: 89.48\n",
            "Validation ACC: 81.79\n",
            "\n",
            "Total Training Time: 173.07 min\n"
          ],
          "name": "stdout"
        }
      ]
    },
    {
      "cell_type": "code",
      "metadata": {
        "id": "S9PIVTG-HOu4",
        "colab": {
          "base_uri": "https://localhost:8080/"
        },
        "outputId": "b0ddb87e-a7e2-42ed-9c58-2a737b657ebb"
      },
      "source": [
        "print(len(cost))"
      ],
      "execution_count": null,
      "outputs": [
        {
          "output_type": "stream",
          "text": [
            "19550\n"
          ],
          "name": "stdout"
        }
      ]
    },
    {
      "cell_type": "code",
      "metadata": {
        "colab": {
          "base_uri": "https://localhost:8080/",
          "height": 279
        },
        "id": "VJld94oIE7YR",
        "outputId": "6d542e41-cde2-450f-b135-754432297d4f"
      },
      "source": [
        "# vizualize Loss vs Epoch of testing loss\r\n",
        "\r\n",
        "import matplotlib.pyplot as plt\r\n",
        "cost_tune = []\r\n",
        "i = 0\r\n",
        "while i < 19500:\r\n",
        "  cost_tune.append(cost[i])\r\n",
        "  i += 390\r\n",
        "# print(len(cost))\r\n",
        "x_value = list(range(50))\r\n",
        "y_vaule = cost_tune\r\n",
        "\r\n",
        "\r\n",
        "\r\n",
        "plt.plot(x_value, y_vaule, c='red', label='Testing Loss' )\r\n",
        "plt.ylabel('Loss')\r\n",
        "plt.xlabel('Epoch')\r\n",
        "plt.legend()\r\n",
        "plt.show()"
      ],
      "execution_count": null,
      "outputs": [
        {
          "output_type": "display_data",
          "data": {
            "image/png": "[encoded data removed]",
            "text/plain": [
              "<Figure size 432x288 with 1 Axes>"
            ]
          },
          "metadata": {
            "tags": [],
            "needs_background": "light"
          }
        }
      ]
    },
    {
      "cell_type": "code",
      "metadata": {
        "colab": {
          "base_uri": "https://localhost:8080/",
          "height": 279
        },
        "id": "UdvN21eSHp6c",
        "outputId": "9c550414-c243-4132-b1e3-13893fc672be"
      },
      "source": [
        "\r\n",
        "# vizualize accuracy vs Epoch of training and testing loss\r\n",
        "\r\n",
        "plt.plot(np.arange(1, NUM_EPOCHS+1), trainACC, label='Training Accuracy')\r\n",
        "plt.plot(np.arange(1, NUM_EPOCHS+1), validACC, label='Testing Accuracy')\r\n",
        "\r\n",
        "plt.xlabel('Epoch')\r\n",
        "plt.ylabel('Accuracy')\r\n",
        "plt.legend()\r\n",
        "plt.show()"
      ],
      "execution_count": null,
      "outputs": [
        {
          "output_type": "display_data",
          "data": {
            "image/png": "[encoded data removed]",
            "text/plain": [
              "<Figure size 432x288 with 1 Axes>"
            ]
          },
          "metadata": {
            "tags": [],
            "needs_background": "light"
          }
        }
      ]
    }
  ]
}